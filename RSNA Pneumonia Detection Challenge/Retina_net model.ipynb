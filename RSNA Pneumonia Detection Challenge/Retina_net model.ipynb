{
 "cells": [
  {
   "cell_type": "code",
   "execution_count": null,
   "metadata": {
    "_uuid": "3cbfb24c526c7646df10657291cd850f705f135e"
   },
   "outputs": [],
   "source": [
    "import pandas as pd \n",
    "import numpy as np\n",
    "import scipy.misc\n",
    "import pydicom \n",
    "import glob\n",
    "import sys\n",
    "import os\n",
    "import pandas as pd \n",
    "import base64\n",
    "from IPython.display import HTML"
   ]
  },
  {
   "cell_type": "code",
   "execution_count": null,
   "metadata": {
    "_uuid": "59a60318718a12d2a2bb841ac6c3b5d011fe32ac"
   },
   "outputs": [],
   "source": [
    "from scipy.ndimage.interpolation import zoom"
   ]
  },
  {
   "cell_type": "code",
   "execution_count": null,
   "metadata": {
    "_cell_guid": "b1076dfc-b9ad-4769-8c92-a6c4dae69d19",
    "_uuid": "8f2839f25d086af736a60e9eeb907d3b93b6e0e5"
   },
   "outputs": [],
   "source": [
    "!git clone https://github.com/fizyr/keras-retinanet\n",
    "os.chdir(\"keras-retinanet\") \n",
    "!python setup.py build_ext --inplace"
   ]
  },
  {
   "cell_type": "code",
   "execution_count": null,
   "metadata": {
    "_cell_guid": "79c7e3d0-c299-4dcb-8224-4455121ee9b0",
    "_uuid": "d629ff2d2480ee46fbb7e2d37f6b5fab8052498a"
   },
   "outputs": [],
   "source": [
    "DATA_DIR = \"/kaggle/input/\"\n",
    "ROOT_DIR = \"/kaggle/working/\""
   ]
  },
  {
   "cell_type": "code",
   "execution_count": null,
   "metadata": {
    "_uuid": "b6507bf63555041be8b99fc06e71ad59ec52f55f"
   },
   "outputs": [],
   "source": [
    "train_pngs_dir = os.path.join(DATA_DIR, \"rsna-pneu-train-png/stage_1_train_pngs/orig/\")\n",
    "test_dicoms_dir  = os.path.join(DATA_DIR, \"rsna-pneumonia-detection-challenge/stage_1_test_images/\") "
   ]
  },
  {
   "cell_type": "code",
   "execution_count": null,
   "metadata": {
    "_uuid": "c11efca7a4483f071bd62bdc81b337702df71586"
   },
   "outputs": [],
   "source": [
    "bbox_info = pd.read_csv(os.path.join(DATA_DIR, \"rsna-pneumonia-detection-challenge/stage_1_train_labels.csv\"))\n",
    "detailed_class_info = pd.read_csv(os.path.join(DATA_DIR, \"rsna-pneumonia-detection-challenge/stage_1_detailed_class_info.csv\"))\n",
    "detailed_class_info = detailed_class_info.drop_duplicates()"
   ]
  },
  {
   "cell_type": "code",
   "execution_count": null,
   "metadata": {
    "_uuid": "21ed332fc94fa014880a52a8c3d288874253570d"
   },
   "outputs": [],
   "source": [
    "positives = detailed_class_info\n",
    "positives.head()"
   ]
  },
  {
   "cell_type": "code",
   "execution_count": null,
   "metadata": {
    "_uuid": "ef5ff8ffedbee2cb96b46990dba21d808c39ca56"
   },
   "outputs": [],
   "source": [
    "cash_class = positives\n",
    "cash_class.head()"
   ]
  },
  {
   "cell_type": "code",
   "execution_count": null,
   "metadata": {
    "_uuid": "c6f69a4cd9cb6c0974bf4575d26687aa1cf4d0aa"
   },
   "outputs": [],
   "source": [
    "positives = positives.merge(bbox_info, on=\"patientId\")\n",
    "positives = positives[[\"patientId\", \"x\", \"y\", \"width\", \"height\"]]\n",
    "positives = positives.merge(cash_class, on=\"patientId\")"
   ]
  },
  {
   "cell_type": "code",
   "execution_count": null,
   "metadata": {
    "_uuid": "b5846286c6bf38a3943056791074f51c5f4946da"
   },
   "outputs": [],
   "source": [
    "#positives[positives[\"class\"]=='No Lung Opacity / Not Normal']\n",
    "\n",
    "#positives[\"class\"] = np.where(positives[\"class\"]=='No Lung Opacity / Not Normal', 'Normal','')\n",
    "\n",
    "\n",
    "conditions = [\n",
    "         positives[\"class\"]=='No Lung Opacity / Not Normal',\n",
    "         positives[\"class\"]=='Normal',\n",
    "         positives[\"class\"]=='Lung Opacity'\n",
    "             ]\n",
    "choices = ['','','Lung Opacity']\n",
    "positives[\"class\"] = np.select(conditions, choices)\n",
    "positives.head()"
   ]
  },
  {
   "cell_type": "code",
   "execution_count": null,
   "metadata": {
    "_uuid": "5b0662ffd586c5722271b64e56aa828e08b54c0d"
   },
   "outputs": [],
   "source": [
    "\n",
    "positives[\"patientId\"] = [os.path.join(train_pngs_dir, \"{}.png\".format(_)) for _ in positives.patientId]\n",
    "positives[\"x1\"] = positives[\"x\"] \n",
    "positives[\"y1\"] = positives[\"y\"] \n",
    "positives[\"x2\"] = positives[\"x\"] + positives[\"width\"]\n",
    "positives[\"y2\"] = positives[\"y\"] + positives[\"height\"]\n",
    "positives[\"Target\"] = positives[\"class\"]\n",
    "del positives[\"x\"], positives[\"y\"], positives[\"width\"], positives[\"height\"]"
   ]
  },
  {
   "cell_type": "code",
   "execution_count": null,
   "metadata": {
    "_uuid": "ce2141b419841987a95060d45f00426e6e9f6869"
   },
   "outputs": [],
   "source": [
    "del positives['class']"
   ]
  },
  {
   "cell_type": "code",
   "execution_count": null,
   "metadata": {
    "_uuid": "491d112490feec4aada2cd07c78562f0ed327ade"
   },
   "outputs": [],
   "source": [
    "positives.head()"
   ]
  },
  {
   "cell_type": "code",
   "execution_count": null,
   "metadata": {
    "_uuid": "b7f7379693445579fad252961f561ce8def64729"
   },
   "outputs": [],
   "source": [
    "annotations = positives"
   ]
  },
  {
   "cell_type": "code",
   "execution_count": null,
   "metadata": {
    "_uuid": "a0aeeddc4ab1bf4a4a8bfbd2c5f69a3e0c5ce0d8"
   },
   "outputs": [],
   "source": [
    "annotations = annotations.fillna(88888)\n",
    "annotations[\"x1\"] = annotations.x1.astype(\"int32\").astype(\"str\") \n",
    "annotations[\"y1\"] = annotations.y1.astype(\"int32\").astype(\"str\") \n",
    "annotations[\"x2\"] = annotations.x2.astype(\"int32\").astype(\"str\") \n",
    "annotations[\"y2\"] = annotations.y2.astype(\"int32\").astype(\"str\")\n",
    "annotations = annotations.replace({\"88888\": \"\"}) \n",
    "annotations = annotations[[\"patientId\", \"x1\", \"y1\", \"x2\", \"y2\", \"Target\"]]\n",
    "annotations.to_csv(os.path.join(ROOT_DIR, \"annotations.csv\"), index=False, header=False)"
   ]
  },
  {
   "cell_type": "code",
   "execution_count": null,
   "metadata": {
    "_uuid": "e82e77a4cbb2bfcc3b0d53df2bb0bf9a14ac16ea"
   },
   "outputs": [],
   "source": [
    "annotations.head()"
   ]
  },
  {
   "cell_type": "code",
   "execution_count": null,
   "metadata": {
    "_uuid": "ad86e704479171f5a7c35b09a2c2ac262d7dec0b"
   },
   "outputs": [],
   "source": [
    "classes_file = pd.DataFrame({\"class\": [\"Lung Opacity\"], \"id\": [0]}) \n",
    "classes_file.to_csv(os.path.join(ROOT_DIR, \"classes.csv\"), index=False, header=False)"
   ]
  },
  {
   "cell_type": "code",
   "execution_count": null,
   "metadata": {
    "_uuid": "6b139214f9396180033c0ae129d00c91358c069e"
   },
   "outputs": [],
   "source": [
    "classes_file.head()"
   ]
  },
  {
   "cell_type": "code",
   "execution_count": null,
   "metadata": {
    "_uuid": "989faddddf14509422ced22ae90fcb34aa2bee10"
   },
   "outputs": [],
   "source": [
    "annotations.shape"
   ]
  },
  {
   "cell_type": "code",
   "execution_count": null,
   "metadata": {
    "_uuid": "25d776ee6cf1b6eb611a5ce78a19fda5fae4eb37"
   },
   "outputs": [],
   "source": [
    "!python /kaggle/working/keras-retinanet/keras_retinanet/bin/train.py --backbone \"resnet50\" --image-min-side 608 --image-max-side 608 --batch-size 8  --epochs 1 --steps 3623 --no-snapshots csv /kaggle/working/annotations.csv /kaggle/working/classes.csv"
   ]
  },
  {
   "cell_type": "code",
   "execution_count": null,
   "metadata": {
    "_uuid": "58eaa6a79f5b5cb5fb9f3397295624a0bcd45c23"
   },
   "outputs": [],
   "source": [
    "model.save(\"model.h5\")"
   ]
  },
  {
   "cell_type": "code",
   "execution_count": null,
   "metadata": {
    "_uuid": "f9acfdf61cfc5ed464da6134722b21a9fd732038"
   },
   "outputs": [],
   "source": [
    "!python /kaggle/working/keras-retinanet/keras_retinanet/bin/convert_model.py /kaggle/working/keras-retinanet/snapshots/resnet50_csv_1.h5 /kaggle/working/keras-retinanet/converted_model.h5 "
   ]
  },
  {
   "cell_type": "code",
   "execution_count": null,
   "metadata": {
    "_uuid": "4f6d715953a5898aab248bce8d12560fbd971e97"
   },
   "outputs": [],
   "source": [
    "from keras_retinanet.models import load_model \n",
    "retinanet = load_model(os.path.join(ROOT_DIR, \"keras-retinanet/converted_model.h5\"), \n",
    "                       backbone_name=\"resnet50\")"
   ]
  },
  {
   "cell_type": "code",
   "execution_count": null,
   "metadata": {
    "_uuid": "eef155ff09f05f9f67d3540ceefde2ced66fa3af"
   },
   "outputs": [],
   "source": [
    "def preprocess_input(x):\n",
    "    x = x.astype(\"float32\")\n",
    "    x[..., 0] -= 103.939\n",
    "    x[..., 1] -= 116.779\n",
    "    x[..., 2] -= 123.680\n",
    "    return x"
   ]
  },
  {
   "cell_type": "code",
   "execution_count": null,
   "metadata": {
    "_uuid": "8e3b6154b409f957691bf56b565850e0cd220c94"
   },
   "outputs": [],
   "source": [
    "test_dicoms = glob.glob(os.path.join(test_dicoms_dir, \"*.dcm\"))\n",
    "test_patient_ids = [_.split(\"/\")[-1].split(\".\")[0] for _ in test_dicoms]\n",
    "test_predictions = [] \n",
    "for i, dcm_file in enumerate(test_dicoms): \n",
    "    sys.stdout.write(\"Predicting images: {}/{} ...\\r\".format(i+1, len(test_dicoms)))\n",
    "    sys.stdout.flush() \n",
    "    # Load DICOM and extract pixel array \n",
    "    dcm = pydicom.read_file(dcm_file)\n",
    "    arr = dcm.pixel_array\n",
    "    # Make 3-channel image\n",
    "    img = np.zeros((arr.shape[0], arr.shape[1], 3))\n",
    "    for channel in range(img.shape[-1]):\n",
    "        img[..., channel] = arr \n",
    "    # Resize \n",
    "    # Change image size if necessary!\n",
    "    scale_factor = 256. / img.shape[0]\n",
    "    img = zoom(img, [scale_factor, scale_factor, 1], order=1, prefilter=False)\n",
    "    # Preprocess with ImageNet mean subtraction\n",
    "    img = preprocess_input(img) \n",
    "    prediction = retinanet.predict_on_batch(np.expand_dims(img, axis=0))\n",
    "    test_predictions.append(prediction) "
   ]
  },
  {
   "cell_type": "code",
   "execution_count": null,
   "metadata": {
    "_uuid": "e97e0dd9a6ef562ef9d5619da7fba99256fc2bcb"
   },
   "outputs": [],
   "source": [
    "test_pred_df = pd.DataFrame() \n",
    "for i, pred in enumerate(test_predictions):\n",
    "    # Take top 5 \n",
    "    # Should already be sorted in descending order by score\n",
    "    bboxes = pred[0][0][:5]\n",
    "    scores = pred[1][0][:5]\n",
    "    # -1 will be predicted if nothing is detected\n",
    "    detected = scores > -1 \n",
    "    if np.sum(detected) == 0: \n",
    "        continue\n",
    "    else:\n",
    "        bboxes = bboxes[detected]\n",
    "        bboxes = [box / scale_factor for box in bboxes]\n",
    "        scores = scores[detected]\n",
    "    individual_pred_df = pd.DataFrame() \n",
    "    for j, each_box in enumerate(bboxes): \n",
    "        # RetinaNet output is [x1, y1, x2, y2] \n",
    "        tmp_df = pd.DataFrame({\"patientId\": [test_patient_ids[i]], \n",
    "                               \"x\": [each_box[0]],  \n",
    "                               \"y\": [each_box[1]], \n",
    "                               \"w\": [each_box[2]-each_box[0]],\n",
    "                               \"h\": [each_box[3]-each_box[1]],\n",
    "                               \"score\": [scores[j]]})\n",
    "        individual_pred_df = individual_pred_df.append(tmp_df) \n",
    "    test_pred_df = test_pred_df.append(individual_pred_df) \n",
    "\n",
    "test_pred_df.head()\n"
   ]
  },
  {
   "cell_type": "code",
   "execution_count": null,
   "metadata": {
    "_uuid": "ac6dd45f1f2f54e9314304db68062e68ed07a74a"
   },
   "outputs": [],
   "source": [
    "threshold = 0.50\n",
    "\n",
    "list_of_pids = [] \n",
    "list_of_preds = [] \n",
    "for pid in np.unique(test_pred_df.patientId): \n",
    "    tmp_df = test_pred_df[test_pred_df.patientId == pid]\n",
    "    tmp_df = tmp_df[tmp_df.score >= threshold]\n",
    "    # Skip if empty\n",
    "    if len(tmp_df) == 0:\n",
    "        continue\n",
    "    predictionString = \" \".join([\"{} {} {} {} {}\".format(row.score, row.x, row.y, row.w, row.h) for rownum, row in tmp_df.iterrows()])\n",
    "    list_of_preds.append(predictionString)\n",
    "    list_of_pids.append(pid) \n",
    "\n",
    "positives = pd.DataFrame({\"patientId\": list_of_pids, \n",
    "                          \"PredictionString\": list_of_preds}) \n",
    "\n",
    "negatives = pd.DataFrame({\"patientId\": list(set(test_patient_ids) - set(list_of_pids)), \n",
    "                          \"PredictionString\": [\"\"] * (len(test_patient_ids)-len(list_of_pids))})\n",
    "\n",
    "submission = positives.append(negatives)"
   ]
  },
  {
   "cell_type": "code",
   "execution_count": null,
   "metadata": {
    "_uuid": "b66107ad595a70b4b9750725610a99303dfc9432"
   },
   "outputs": [],
   "source": [
    "def create_download_link(df, title = \"Download CSV file\", filename = \"RSNA_DataSet.csv\"):  \n",
    "    csv = df.to_csv(index = 0)\n",
    "    b64 = base64.b64encode(csv.encode())\n",
    "    payload = b64.decode()\n",
    "    html = '<a download=\"{filename}\" href=\"data:text/csv;base64,{payload}\" target=\"_blank\">{title}</a>'\n",
    "    html = html.format(payload=payload,title=title,filename=filename)\n",
    "    return HTML(html)"
   ]
  },
  {
   "cell_type": "code",
   "execution_count": null,
   "metadata": {
    "_uuid": "c7a237fd45cb83652a8abd78e96bae40d33b0a9e"
   },
   "outputs": [],
   "source": [
    "test_pred_df.head(100)"
   ]
  }
 ],
 "metadata": {
  "kernelspec": {
   "display_name": "Python 3",
   "language": "python",
   "name": "python3"
  },
  "language_info": {
   "codemirror_mode": {
    "name": "ipython",
    "version": 3
   },
   "file_extension": ".py",
   "mimetype": "text/x-python",
   "name": "python",
   "nbconvert_exporter": "python",
   "pygments_lexer": "ipython3",
   "version": "3.7.0"
  }
 },
 "nbformat": 4,
 "nbformat_minor": 1
}
